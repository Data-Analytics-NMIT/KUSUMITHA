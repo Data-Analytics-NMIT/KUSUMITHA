{
 "cells": [
  {
   "cell_type": "code",
   "execution_count": 2,
   "id": "3328d260",
   "metadata": {},
   "outputs": [
    {
     "name": "stdout",
     "output_type": "stream",
     "text": [
      "   Country  Age  Salary Purchased\n",
      "0   France   44   72000        No\n",
      "1    Spain   27   48000       Yes\n",
      "2  Germany   30   54000        No\n",
      "3    Spain   38   61000        No\n",
      "4  Germany   40    1000       Yes\n",
      "\n",
      "After Standardisation : \n",
      " [[ 0.09536935  0.66527061]\n",
      " [-1.15176827 -0.43586695]\n",
      " [-0.93168516 -0.16058256]\n",
      " [-0.34479687  0.16058256]\n",
      " [-0.1980748  -2.59226136]\n",
      " [-0.56487998  0.02294037]\n",
      " [ 2.58964459 -0.25234403]\n",
      " [ 0.38881349  0.98643574]\n",
      " [ 0.53553557  1.16995867]\n",
      " [-0.41815791  0.43586695]]\n"
     ]
    }
   ],
   "source": [
    "#Importing Libraries\n",
    "import pandas as pd\n",
    "# Sklearn library\n",
    "from sklearn import preprocessing\n",
    "#Import Data\n",
    "data_set = pd.read_csv('bin.csv')\n",
    "print(data_set.head())\n",
    "x = data_set.iloc[:, 1:3].values\n",
    "Standardisation = preprocessing.StandardScaler()\n",
    "# Scaled feature\n",
    "x_after_Standardisation = Standardisation.fit_transform(x)\n",
    "print (\"\\nAfter Standardisation : \\n\", x_after_Standardisation)"
   ]
  },
  {
   "cell_type": "code",
   "execution_count": null,
   "id": "c8cba582",
   "metadata": {},
   "outputs": [],
   "source": []
  },
  {
   "cell_type": "code",
   "execution_count": null,
   "id": "aa592544",
   "metadata": {},
   "outputs": [],
   "source": []
  }
 ],
 "metadata": {
  "kernelspec": {
   "display_name": "Python 3 (ipykernel)",
   "language": "python",
   "name": "python3"
  },
  "language_info": {
   "codemirror_mode": {
    "name": "ipython",
    "version": 3
   },
   "file_extension": ".py",
   "mimetype": "text/x-python",
   "name": "python",
   "nbconvert_exporter": "python",
   "pygments_lexer": "ipython3",
   "version": "3.8.10"
  }
 },
 "nbformat": 4,
 "nbformat_minor": 5
}
